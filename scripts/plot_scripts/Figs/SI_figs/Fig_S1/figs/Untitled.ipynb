{
 "cells": [
  {
   "cell_type": "code",
   "execution_count": 112,
   "id": "0df0b54d",
   "metadata": {},
   "outputs": [],
   "source": [
    "home= '/Users/sharear/Documents/sky/RESEARCH_&_GRAD_SCHOOL/Penn_State/anionic_G_U/manuscript_things/Figs/SI_figs/Fig_S1/figs'\n",
    "os.chdir(home)"
   ]
  },
  {
   "cell_type": "code",
   "execution_count": 113,
   "id": "5048e00a",
   "metadata": {},
   "outputs": [
    {
     "name": "stdout",
     "output_type": "stream",
     "text": [
      "fig_S1.41D_Spo_8EV3_6_G105_6_U179_Eukaryota_distribution.pdf\n",
      "fig_S1.41D\n",
      "fig_S1.41\n",
      "Spo_8EV3_6_G105_6_U179_Eukaryota\n",
      "fig_S1.41***Spo_8EV3_6_G105_6_U179_Eukaryota.png\n",
      "fig_S1.41C_Spo_8EV3_6_G105_6_U179_Eukaryota_line.pdf\n",
      "/////////////////////////////////\n",
      "8ev3_mesh_B_0.08.png\n",
      "fig_S1.41B_Spo_8EV3_6_G105_6_U179_Eukaryota_wobble_surrounding.png\n",
      "================\n",
      "8ev3_mesh_A_0.08.png\n",
      "fig_S1.41A_Spo_8EV3_6_G105_6_U179_Eukaryota_wobble_only.png\n"
     ]
    }
   ],
   "source": [
    "import os\n",
    "\n",
    "# Specify the directory containing the files\n",
    "directory = '/Users/sharear/Documents/sky/RESEARCH_&_GRAD_SCHOOL/Penn_State/anionic_G_U/manuscript_things/Figs/SI_figs/Fig_S1/figs/fig_S1.41'\n",
    "\n",
    "\n",
    "os.chdir(directory)\n",
    "# Iterate through all the files in the directory\n",
    "count=0\n",
    "for filename in os.listdir(directory):\n",
    "    \n",
    "    old_path = os.path.join(directory, filename)\n",
    "    \n",
    "    \n",
    "    if filename.endswith('pdf'):\n",
    "        print (filename)\n",
    "        count +=1\n",
    "        if count==1:\n",
    "            basename1= '_'.join(filename.rstrip('_distribution.pdf').split('_')[:2])\n",
    "            basename2= basename1[:len(basename1)-1]\n",
    "            \n",
    "            basename3= '_'.join(filename.rstrip('_distribution.pdf').split('_')[2:])\n",
    "            \n",
    "            print (basename1)\n",
    "            print (basename2)\n",
    "            print (basename3)\n",
    "            \n",
    "            fname1= basename2+'***'+basename3+'.png'\n",
    "            print (fname1)\n",
    "        else:\n",
    "            pass\n",
    "\n",
    "for filename in os.listdir(directory):\n",
    "    \n",
    "    old_path = os.path.join(directory, filename)\n",
    "    # Skip directories, only process files\n",
    "    if filename.endswith('.png'):\n",
    "        if len(filename.split('_'))>3:\n",
    "            if filename.split('_')[2]=='A':\n",
    "                print ('================')\n",
    "                print (filename)\n",
    "                new_name= basename2+'A_'+basename3+'_wobble_only.png'\n",
    "                print (new_name)\n",
    "                if os.path.isfile(old_path):\n",
    "                    new_path = os.path.join(directory, new_name)\n",
    "                    os.rename(old_path, new_path)\n",
    "                \n",
    "            else:\n",
    "            \n",
    "                print ('/////////////////////////////////')\n",
    "                print (filename)\n",
    "                new_name= basename2+'B_'+basename3+'_wobble_surrounding.png'\n",
    "                print (new_name)\n",
    "                if os.path.isfile(old_path):\n",
    "                    new_path = os.path.join(directory, new_name)\n",
    "                    os.rename(old_path, new_path)\n",
    "            \n",
    "        else:\n",
    "            if filename.split('_')[2].split('.')[0]=='A':\n",
    "                print ('THIS IS IT')\n",
    "                print (filename)\n",
    "                new_name= basename2+'A_'+basename3+'_wobble_only.png'\n",
    "                print (new_name)\n",
    "                if os.path.isfile(old_path):\n",
    "                    new_path = os.path.join(directory, new_name)\n",
    "                    os.rename(old_path, new_path)\n",
    "                \n",
    "            elif filename.split('_')[2].split('.')[0]=='B':\n",
    "                print ('THIS IS ALSOOOOOOO IT')\n",
    "                print (filename)\n",
    "                new_name= basename2+'B_'+basename3+'_wobble_surrounding.png'\n",
    "                print (new_name)\n",
    "                if os.path.isfile(old_path):\n",
    "                    new_path = os.path.join(directory, new_name)\n",
    "                    os.rename(old_path, new_path)\n",
    "\n",
    "os.chdir(home)  \n"
   ]
  },
  {
   "cell_type": "code",
   "execution_count": null,
   "id": "75149a01",
   "metadata": {},
   "outputs": [],
   "source": []
  },
  {
   "cell_type": "code",
   "execution_count": null,
   "id": "347822cf",
   "metadata": {},
   "outputs": [],
   "source": []
  },
  {
   "cell_type": "code",
   "execution_count": null,
   "id": "e316105d",
   "metadata": {},
   "outputs": [],
   "source": [
    "fig_S1.7B_Hsa_6LU8_2_G505_2_U653_Eukaryota_wobble_surrounding.png\n",
    ".DS_Store\n",
    "fig_S1.7D_Hsa_6LU8_2_G505_2_U653_Eukaryota_distribution.pdf\n",
    "README.md\n",
    "fig_S1.7C_Hsa_6LU8_2_G505_2_U653_Eukaryota_line.pdf\n",
    "fig_S1.7A_Hsa_6LU8_2_G505_2_U653_Eukaryota_wobble_only.png"
   ]
  }
 ],
 "metadata": {
  "kernelspec": {
   "display_name": "Python 3 (ipykernel)",
   "language": "python",
   "name": "python3"
  },
  "language_info": {
   "codemirror_mode": {
    "name": "ipython",
    "version": 3
   },
   "file_extension": ".py",
   "mimetype": "text/x-python",
   "name": "python",
   "nbconvert_exporter": "python",
   "pygments_lexer": "ipython3",
   "version": "3.11.0"
  }
 },
 "nbformat": 4,
 "nbformat_minor": 5
}
