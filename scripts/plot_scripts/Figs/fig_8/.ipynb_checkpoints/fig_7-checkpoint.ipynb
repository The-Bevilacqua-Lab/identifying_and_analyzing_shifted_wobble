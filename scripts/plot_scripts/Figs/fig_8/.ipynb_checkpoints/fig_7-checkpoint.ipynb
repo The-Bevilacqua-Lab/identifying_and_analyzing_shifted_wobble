{
 "cells": [
  {
   "cell_type": "code",
   "execution_count": 1,
   "id": "fa8e89e6",
   "metadata": {},
   "outputs": [],
   "source": [
    "import requests\n",
    "import os\n",
    "from subprocess import call\n",
    "import pandas as pd\n",
    "import csv\n",
    "import json\n",
    "import glob\n",
    "import subprocess\n",
    "import numpy as np\n",
    "import seaborn as sns\n",
    "import matplotlib.pyplot as plt\n",
    "from Bio.PDB import MMCIFParser, Superimposer, PDBIO\n",
    "from Bio.PDB.Structure import Structure\n",
    "import Bio.PDB\n",
    "from Bio.PDB.mmcifio import MMCIFIO\n",
    "import shutil\n",
    "import requests\n",
    "from bs4 import BeautifulSoup"
   ]
  },
  {
   "cell_type": "markdown",
   "id": "08313d9b",
   "metadata": {},
   "source": [
    "# Functions"
   ]
  },
  {
   "cell_type": "code",
   "execution_count": null,
   "id": "ea5e7510",
   "metadata": {},
   "outputs": [],
   "source": []
  },
  {
   "cell_type": "code",
   "execution_count": null,
   "id": "1f407d7e",
   "metadata": {},
   "outputs": [],
   "source": []
  },
  {
   "cell_type": "code",
   "execution_count": null,
   "id": "6651a73e",
   "metadata": {},
   "outputs": [],
   "source": []
  },
  {
   "cell_type": "markdown",
   "id": "3dfa3595",
   "metadata": {},
   "source": [
    "# Importing shifted wobble dataset"
   ]
  },
  {
   "cell_type": "code",
   "execution_count": null,
   "id": "70dcba75",
   "metadata": {},
   "outputs": [],
   "source": []
  }
 ],
 "metadata": {
  "kernelspec": {
   "display_name": "Python 3 (ipykernel)",
   "language": "python",
   "name": "python3"
  },
  "language_info": {
   "codemirror_mode": {
    "name": "ipython",
    "version": 3
   },
   "file_extension": ".py",
   "mimetype": "text/x-python",
   "name": "python",
   "nbconvert_exporter": "python",
   "pygments_lexer": "ipython3",
   "version": "3.11.0"
  }
 },
 "nbformat": 4,
 "nbformat_minor": 5
}
