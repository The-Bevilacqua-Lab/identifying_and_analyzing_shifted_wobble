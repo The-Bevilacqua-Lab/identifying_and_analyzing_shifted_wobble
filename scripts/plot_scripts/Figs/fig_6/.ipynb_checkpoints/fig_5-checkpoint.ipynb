{
 "cells": [
  {
   "cell_type": "markdown",
   "id": "c50c8e5f",
   "metadata": {},
   "source": [
    "# Importing required libraries"
   ]
  },
  {
   "cell_type": "code",
   "execution_count": 2,
   "id": "743dc479",
   "metadata": {},
   "outputs": [],
   "source": [
    "import numpy as np\n",
    "import pandas as pd\n",
    "import matplotlib.pyplot as plt\n",
    "from scipy.spatial.distance import squareform\n",
    "from scipy.cluster.hierarchy import linkage, dendrogram, fcluster\n",
    "import seaborn as sns\n",
    "from collections import Counter"
   ]
  },
  {
   "cell_type": "markdown",
   "id": "e068e50b",
   "metadata": {},
   "source": [
    "# Importing shifted wobble dataset"
   ]
  },
  {
   "cell_type": "code",
   "execution_count": 3,
   "id": "e1896ad7",
   "metadata": {},
   "outputs": [],
   "source": [
    "sw_df = pd.read_excel('shifted_wobbles.xlsx', sheet_name='shifted_wobbles') #all shifted wobbles"
   ]
  },
  {
   "cell_type": "code",
   "execution_count": 4,
   "id": "2f4610b2",
   "metadata": {},
   "outputs": [],
   "source": [
    "sw_df1= sw_df[sw_df['representative']==1] #non-redundant shifted wobbles\n",
    "sw_df1.index= np.arange(0, len(sw_df1))"
   ]
  },
  {
   "cell_type": "code",
   "execution_count": null,
   "id": "d507f617",
   "metadata": {},
   "outputs": [],
   "source": []
  },
  {
   "cell_type": "code",
   "execution_count": null,
   "id": "d1ce3e3b",
   "metadata": {},
   "outputs": [],
   "source": []
  }
 ],
 "metadata": {
  "kernelspec": {
   "display_name": "Python 3 (ipykernel)",
   "language": "python",
   "name": "python3"
  },
  "language_info": {
   "codemirror_mode": {
    "name": "ipython",
    "version": 3
   },
   "file_extension": ".py",
   "mimetype": "text/x-python",
   "name": "python",
   "nbconvert_exporter": "python",
   "pygments_lexer": "ipython3",
   "version": "3.11.0"
  }
 },
 "nbformat": 4,
 "nbformat_minor": 5
}
