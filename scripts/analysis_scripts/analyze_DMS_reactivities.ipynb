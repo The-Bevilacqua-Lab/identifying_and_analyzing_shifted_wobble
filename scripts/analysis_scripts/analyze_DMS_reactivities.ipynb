{
 "cells": [
  {
   "cell_type": "code",
   "execution_count": 29,
   "id": "f2d0d61d",
   "metadata": {},
   "outputs": [],
   "source": [
    "import os\n",
    "import pandas as pd\n",
    "import requests\n",
    "import numpy as np\n",
    "from Bio.PDB import MMCIFParser, Superimposer, PDBIO\n",
    "from optparse import OptionParser\n",
    "from scipy.spatial.distance import squareform\n",
    "from scipy.cluster.hierarchy import linkage, dendrogram, fcluster\n",
    "from collections import Counter\n",
    "from Bio.PDB import MMCIFParser, Superimposer, PDBIO\n",
    "from optparse import OptionParser\n",
    "from scipy.spatial.distance import squareform\n",
    "from scipy.cluster.hierarchy import linkage, dendrogram, fcluster\n",
    "from collections import Counter\n",
    "import matplotlib.pyplot as plt\n",
    "import seaborn as sns\n",
    "import re\n",
    "from scipy.stats import norm\n",
    "from pymol import cmd\n",
    "import glob #need for removing cif files\n",
    "import json #need for loading json files"
   ]
  },
  {
   "cell_type": "markdown",
   "id": "61399c61",
   "metadata": {},
   "source": [
    "# Import raw reactivities data"
   ]
  },
  {
   "cell_type": "code",
   "execution_count": null,
   "id": "444af6ba",
   "metadata": {},
   "outputs": [],
   "source": []
  },
  {
   "cell_type": "code",
   "execution_count": 43,
   "id": "cf19f2cf",
   "metadata": {},
   "outputs": [],
   "source": [
    "raw_ecoli_DMS= pd.read_csv('../../data/reactivities_analysis/reactivities/DMS_ecoli_profile.txt', delimiter= '\\t')\n",
    "raw_yeast_DMS= pd.read_csv('../../data/reactivities_analysis/reactivities/DMS_yeast_profile.txt', delimiter= '\\t')\n",
    "raw_human_DMS= pd.read_csv('../../data/reactivities_analysis/reactivities/DMS_human_profile.txt', delimiter= '\\t')\n",
    "raw_ecoli_ETC= pd.read_csv('../../data/reactivities_analysis/reactivities/ETC_ecoli_profile.txt', delimiter= '\\t')"
   ]
  },
  {
   "cell_type": "code",
   "execution_count": 18,
   "id": "7c385e1f",
   "metadata": {},
   "outputs": [],
   "source": [
    "#removing organism name from the RNA_type column (RNA)\n",
    "raw_yeast_DMS['RNA'] = raw_yeast_DMS['RNA'].str.replace('yeast', '')\n",
    "raw_human_DMS['RNA'] = raw_human_DMS['RNA'].str.replace('human', '')\n",
    "raw_ecoli_ETC['RNA'] = raw_ecoli_ETC['RNA'].str.replace('ecoli', '')"
   ]
  },
  {
   "cell_type": "markdown",
   "id": "f91172dd",
   "metadata": {},
   "source": [
    "# Import base pair information"
   ]
  },
  {
   "cell_type": "code",
   "execution_count": null,
   "id": "01ee328d",
   "metadata": {},
   "outputs": [],
   "source": []
  },
  {
   "cell_type": "code",
   "execution_count": 37,
   "id": "c1ae5a37",
   "metadata": {},
   "outputs": [],
   "source": [
    "#directories for the json files containing the outputs from DSSR characterization\n",
    "#for ecoli, PDB_ID: 4YBB was selected in this work\n",
    "#Escherichia coli (4YBB, X-ray, 2.10 Å)\n",
    "ecoli_js= '../../data/reactivities_analysis/bp_infos/4YBB-dssr.json'\n",
    "\n",
    "#for yeast, PDB_ID: 4V88 was selected in this work\n",
    "#Saccharomyces cerevisiae (4V88, X-ray, 3.00 Å)\n",
    "yeast_js= '../../data/reactivities_analysis/bp_infos/4V88-dssr.json'\n",
    "\n",
    "#for human, PDB_ID: 8QOI was selected in this work\n",
    "#Homo sapiens (8QOI, cryo-EM, 1.90 Å) \n",
    "human_js= '../../data/reactivities_analysis/bp_infos/8QOI-dssr.json'"
   ]
  },
  {
   "cell_type": "code",
   "execution_count": 38,
   "id": "360f5dfe",
   "metadata": {},
   "outputs": [],
   "source": [
    "#this function will take the directory of the json file containing the DSSR output of the corresponding structure file\n",
    "def json_2_bp_csv(dr):\n",
    "    with open(dr) as f:\n",
    "        data= json.loads(f.read())\n",
    "        bps_list= pd.json_normalize(data, record_path =['pairs'])\n",
    "        print (bps_list.shape)\n",
    "        return bps_list"
   ]
  },
  {
   "cell_type": "code",
   "execution_count": 39,
   "id": "dcfc60b0",
   "metadata": {},
   "outputs": [
    {
     "name": "stdout",
     "output_type": "stream",
     "text": [
      "(4589, 8)\n",
      "(4865, 8)\n",
      "(2577, 8)\n"
     ]
    }
   ],
   "source": [
    "ecoli_bp= json_2_bp_csv(ecoli_js)\n",
    "\n",
    "yeast_bp= json_2_bp_csv(yeast_js)\n",
    "\n",
    "human_bp= json_2_bp_csv(human_js)"
   ]
  },
  {
   "cell_type": "code",
   "execution_count": null,
   "id": "99292583",
   "metadata": {},
   "outputs": [],
   "source": []
  },
  {
   "cell_type": "code",
   "execution_count": null,
   "id": "4d8c7ee9",
   "metadata": {},
   "outputs": [],
   "source": []
  },
  {
   "cell_type": "code",
   "execution_count": null,
   "id": "48770368",
   "metadata": {},
   "outputs": [],
   "source": []
  },
  {
   "cell_type": "markdown",
   "id": "9a6e4fd7",
   "metadata": {},
   "source": [
    "# Functions"
   ]
  },
  {
   "cell_type": "code",
   "execution_count": 7,
   "id": "a8c1c9dc",
   "metadata": {},
   "outputs": [],
   "source": [
    "#normalization function\n",
    "def normalize_nt(df):\n",
    "    #filter the raw reactivities of A, C, G, and U residues\n",
    "    df_A= df[df['Sequence']=='A']\n",
    "    df_A.index= np.arange(0, len(df_A))\n",
    "    \n",
    "    df_C= df[df['Sequence']=='C']\n",
    "    df_C.index= np.arange(0, len(df_C))\n",
    "    \n",
    "    df_G= df[df['Sequence']=='G']\n",
    "    df_G.index= np.arange(0, len(df_G))\n",
    "    \n",
    "    df_U= df[df['Sequence']=='U']\n",
    "    df_U.index= np.arange(0, len(df_U))\n",
    "    \n",
    "    #identifying 90-98th percentile (same as 2-8% filtration in 2-8% normalization)\n",
    "    pA90= df_A['raw_reactivity'].astype(float).quantile(0.90)\n",
    "    pA98= df_A['raw_reactivity'].astype(float).quantile(0.98)\n",
    "    \n",
    "    pC90= df_C['raw_reactivity'].astype(float).quantile(0.90)\n",
    "    pC98= df_C['raw_reactivity'].astype(float).quantile(0.98)\n",
    "    \n",
    "    pG90= df_G['raw_reactivity'].astype(float).quantile(0.90)\n",
    "    pG98= df_G['raw_reactivity'].astype(float).quantile(0.98)\n",
    "    \n",
    "    pU90= df_U['raw_reactivity'].astype(float).quantile(0.90)\n",
    "    pU98= df_U['raw_reactivity'].astype(float).quantile(0.98)\n",
    "    \n",
    "    #filter the raw_reactivities within 90-98th percentile of the raw reactivities of A, C, G, and U\n",
    "    df_A1= df_A[df_A['raw_reactivity'].between(pA90, pA98, inclusive='both')]\n",
    "    df_A1.index= np.arange(0, len(df_A1))\n",
    "    \n",
    "    df_C1= df_C[df_C['raw_reactivity'].between(pC90, pC98, inclusive='both')]\n",
    "    df_C1.index= np.arange(0, len(df_C1))\n",
    "    \n",
    "    df_G1= df_G[df_G['raw_reactivity'].between(pG90, pG98, inclusive='both')]\n",
    "    df_G1.index= np.arange(0, len(df_G1))\n",
    "    \n",
    "    df_U1= df_U[df_U['raw_reactivity'].between(pU90, pU98, inclusive='both')]\n",
    "    df_U1.index= np.arange(0, len(df_U1))\n",
    "    \n",
    "    #calculate the average of the raw_reactivities with 90- 98th percentile raw_reactivities of A, C, G, and U\n",
    "    avg_A= df_A1['raw_reactivity'].mean()\n",
    "    avg_C= df_C1['raw_reactivity'].mean()\n",
    "    avg_G= df_G1['raw_reactivity'].mean()\n",
    "    avg_U= df_U1['raw_reactivity'].mean()\n",
    "    \n",
    "    #set the normalized reactivity to raw reactivity divided by the average for each nucleotide\n",
    "    df['norm_reactivity_nt'] = np.where(df[\"Sequence\"] == \"A\", df['raw_reactivity'] / avg_A, np.nan)\n",
    "    df['norm_reactivity_nt'] = np.where(df[\"Sequence\"] == \"C\", df['raw_reactivity'] / avg_C, df['norm_reactivity_nt'])\n",
    "    df['norm_reactivity_nt'] = np.where(df[\"Sequence\"] == \"G\", df['raw_reactivity'] / avg_G, df['norm_reactivity_nt'])\n",
    "    df['norm_reactivity_nt'] = np.where(df[\"Sequence\"] == \"U\", df['raw_reactivity'] / avg_U, df['norm_reactivity_nt'])\n",
    "    #values in norm_reactivity >1 set to 1, values less than -0.1 set to -0.1\n",
    "    df['norm_reactivity_nt'] = np.where(df['norm_reactivity_nt'] > 1, 1, df['norm_reactivity_nt'])\n",
    "    df['norm_reactivity_nt'] = np.where(df['norm_reactivity_nt'] < -0.1, -0.1, df['norm_reactivity_nt'])\n",
    "    #replace every value in profile that is np.nan with \"NA\"\n",
    "    #profile = profile.replace(np.nan, \"nan\")\n",
    "    #return the profile\n",
    "    return df"
   ]
  },
  {
   "cell_type": "code",
   "execution_count": 8,
   "id": "fd3da14c",
   "metadata": {},
   "outputs": [],
   "source": [
    "#one-tailed p-value\n",
    "def calculate_one_tailed_pvalues(df):\n",
    "    # Create a new column to store p-values\n",
    "    df['p_value'] = None\n",
    "    \n",
    "    for nt in ['A', 'C', 'G', 'U']:\n",
    "        subset = df[df['Sequence'] == nt]['norm_reactivity_nt']  # Select values for this nucleotide\n",
    "        mean_val = subset.mean()  # Compute mean\n",
    "        std_val = subset.std()  # Compute standard deviation\n",
    "        \n",
    "        # Avoid division by zero\n",
    "        if std_val == 0:\n",
    "            df.loc[df['Sequence'] == nt, 'p_value'] = 1.0  # Assign p-value = 1 if all values are identical\n",
    "        else:\n",
    "            # Compute p-values for values greater than the mean\n",
    "            df.loc[df['Sequence'] == nt, 'p_value'] = subset.apply(lambda x: 1 - norm.cdf(x, loc=mean_val, scale=std_val))\n",
    "    \n",
    "    return df"
   ]
  },
  {
   "cell_type": "code",
   "execution_count": 9,
   "id": "6ba47572",
   "metadata": {},
   "outputs": [],
   "source": [
    "#this function will create a base pair dataframe for each rRNA of ecoli, yeast and human\n",
    "#each dataframe will contain four columns\n",
    "#column 1: RNA ---> type of rRNA: 5S, 16S, 23S, 5.8S, 18S, 25S, 28S\n",
    "#column 2: residue_index\n",
    "#column 3: residue_ID\n",
    "#column 4: pairing ----> '1' if the residue is forming a WCF base, '0' if it not forming a WCF base pair\n",
    "def pair_df(df, p, c, R, b):\n",
    "    #p= PDB_ID\n",
    "    #c= chain ID \n",
    "    #R= RNA type such as 5S, 5.8S, 16S, 18S, 23S, 25S, 28S\n",
    "    #if b=0, only canonical base pair should be considered\n",
    "    #if b=1, all base pair should be considered\n",
    "    \n",
    "    #adding columns for the residue index and residue ID\n",
    "    df['res_IND1'] = df['nt1'].str.extract(r'(\\d+)$')\n",
    "    df['res_IND2'] = df['nt2'].str.extract(r'(\\d+)$')\n",
    "    \n",
    "    def extract_res1(nt1_value):\n",
    "        match = re.search(r'\\.(\\D+)\\d', nt1_value)\n",
    "        return match.group(1) if match else None \n",
    "    \n",
    "    df['res_ID1'] = df['nt1'].apply(extract_res1)\n",
    "    df['res_ID2'] = df['nt2'].apply(extract_res1)\n",
    "    \n",
    "    \n",
    "    #filtering base pairs of interests\n",
    "    if b==0: #take only the canonical base pairs\n",
    "        df_bp= df[df['name'].isin(['WC', 'Wobble'])]\n",
    "        df_bp.index= np.arange(0, len(df_bp))\n",
    "        \n",
    "    elif b==1: #take all the base pairs\n",
    "        df_bp= df.copy()\n",
    "        \n",
    "    #filtering the chain of interest\n",
    "    df_R = df_bp[(df_bp['nt1'].str.startswith(c)) & (df_bp['nt1'].str.startswith(c))] #check here again\n",
    "    df_R.index= np.arange(0, len(df_R))\n",
    "    \n",
    "    #generating list of residues index for the residues which are participating in forming any base pair of interest\n",
    "    bp_res = list(pd.concat([df_R['res_IND1'], df_R['res_IND2']]).dropna().astype(int).unique())\n",
    "    \n",
    "    \n",
    "    def download_and_extract_residues(pdb_id, chain_id=None):\n",
    "    \n",
    "        cmd.delete(pdb_id)\n",
    "        cmd.delete('all')\n",
    "        \"\"\"\n",
    "        Downloads a PDB or mmCIF structure, loads it into PyMOL, and extracts a dictionary \n",
    "        mapping residue indices to residue names for a specific chain.\n",
    "\n",
    "        :param pdb_id: PDB ID of the RNA structure.\n",
    "        :param chain_id: Specific chain ID to filter (default: None, gets all chains).\n",
    "        :return: Dictionary {residue index: residue name}\n",
    "        \"\"\"\n",
    "        # Download and load the structure using `create()` to avoid conflicts\n",
    "        cmd.fetch(pdb_id, async_=0)  # Fetch the PDB structure\n",
    "\n",
    "        # If it's an mmCIF file, use create() to load it properly\n",
    "        if pdb_id.endswith('.cif'):\n",
    "            cmd.create(pdb_id, pdb_id)  # Create a new object for mmCIF files\n",
    "        \n",
    "        cmd.remove(\"solvent\")  # Removes water molecules (solvent)\n",
    "        cmd.remove(\"resn MG+CA+ZN+FE+NA+K+SPD+OHX+PUT+MPD+PG4\")\n",
    "    \n",
    "        # Construct selection string based on chain_id\n",
    "        selection = pdb_id  # Default selection\n",
    "        if chain_id:\n",
    "            selection = f\"{pdb_id} and chain {chain_id}\"\n",
    "\n",
    "        # Initialize dictionary to store residue data\n",
    "        res_dict = {}\n",
    "\n",
    "        # Use cmd.iterate() to extract residue information\n",
    "        cmd.iterate(selection, \"res_dict[int(resi)] = resn\", space={'res_dict': res_dict})\n",
    "\n",
    "        return res_dict\n",
    "    \n",
    "    #generating a dictionary where the keys and values will be the \n",
    "    #residue index and residue ID for the residues within the chain of interest\n",
    "    ind_id_dict = download_and_extract_residues(p, c)\n",
    "    \n",
    "    #converting ind_id_dict into a dataframe\n",
    "    bp_pair = pd.DataFrame(list(ind_id_dict.items()), columns=['residue_index', 'residue_ID'])\n",
    "    bp_pair.insert(0, 'RNA', R)\n",
    "    \n",
    "    #assigning pair or unpaired information for each residues \n",
    "    for i, j in enumerate(bp_pair['residue_index']):\n",
    "        if j in bp_res:\n",
    "            bp_pair.loc[(bp_pair['residue_index']==j), \"pairing\"] = 1\n",
    "        else:\n",
    "            bp_pair.loc[(bp_pair['residue_index']==j), \"pairing\"] = 0\n",
    "            \n",
    "    return bp_pair"
   ]
  },
  {
   "cell_type": "code",
   "execution_count": 10,
   "id": "0f673c86",
   "metadata": {},
   "outputs": [],
   "source": [
    "#add description of this function\n",
    "def fill_missing_res_index(df, column_name):\n",
    "    \"\"\"\n",
    "    Adds missing integers in a specified column and inserts new rows in a DataFrame.\n",
    "    \n",
    "    Parameters:\n",
    "    df (pd.DataFrame): The input DataFrame.\n",
    "    column_name (str): The column containing integer values.\n",
    "    \n",
    "    Returns:\n",
    "    pd.DataFrame: A new DataFrame with missing integers filled.\n",
    "    \"\"\"\n",
    "    # Find the full range of numbers\n",
    "    full_range = set(range(1, df[column_name].max() + 1))\n",
    "    existing_values = set(df[column_name])\n",
    "    missing_values = sorted(full_range - existing_values)\n",
    "    \n",
    "    # Create new DataFrame for missing values\n",
    "    missing_df = pd.DataFrame({column_name: missing_values})\n",
    "\n",
    "    # Append missing values and sort\n",
    "    df_filled = pd.concat([df, missing_df], ignore_index=True).sort_values(by=column_name)\n",
    "\n",
    "    return df_filled.reset_index(drop=True)"
   ]
  },
  {
   "cell_type": "code",
   "execution_count": 11,
   "id": "55bae28a",
   "metadata": {},
   "outputs": [],
   "source": [
    "# add description of this function\n",
    "def subtract_after_value(df, column_name, threshold_value):\n",
    "    \"\"\"\n",
    "    Subtracts 1 from all items in a specified column after a given threshold value.\n",
    "\n",
    "    Parameters:\n",
    "    df (pd.DataFrame): The input DataFrame.\n",
    "    column_name (str): The column containing integer values.\n",
    "    threshold_value (int): The value after which subtraction should occur.\n",
    "\n",
    "    Returns:\n",
    "    pd.DataFrame: The modified DataFrame with adjusted values.\n",
    "    \"\"\"\n",
    "    df = df.copy()  # To avoid modifying the original DataFrame\n",
    "    mask = df[column_name] > threshold_value  # Select rows where value is greater than threshold\n",
    "    df.loc[mask, column_name] -= 1  # Subtract 1 from those values\n",
    "    return df"
   ]
  },
  {
   "cell_type": "code",
   "execution_count": null,
   "id": "d9a7fecc",
   "metadata": {},
   "outputs": [],
   "source": []
  },
  {
   "cell_type": "code",
   "execution_count": null,
   "id": "5d7268ec",
   "metadata": {},
   "outputs": [],
   "source": []
  },
  {
   "cell_type": "markdown",
   "id": "46dd697a",
   "metadata": {},
   "source": [
    "# Normalizing reactivities by nucleotides"
   ]
  },
  {
   "cell_type": "code",
   "execution_count": 53,
   "id": "15e7d50d",
   "metadata": {},
   "outputs": [],
   "source": [
    "# normalizing reactivities by nucleotides\n",
    "raw_ecoli_DMS1= normalize_nt(raw_ecoli_DMS)\n",
    "raw_yeast_DMS1= normalize_nt(raw_yeast_DMS)\n",
    "raw_human_DMS1= normalize_nt(raw_human_DMS)\n",
    "raw_ecoli_ETC1= normalize_nt(raw_ecoli_ETC)"
   ]
  },
  {
   "cell_type": "markdown",
   "id": "372e190f",
   "metadata": {},
   "source": [
    "# Calculating one-tailed p-values for reactivities"
   ]
  },
  {
   "cell_type": "code",
   "execution_count": 54,
   "id": "3f12be76",
   "metadata": {},
   "outputs": [],
   "source": [
    "#calculating one-tailed p-values for all reactivities\n",
    "raw_ecoli_DMS2= calculate_one_tailed_pvalues(raw_ecoli_DMS1)\n",
    "raw_yeast_DMS2= calculate_one_tailed_pvalues(raw_yeast_DMS1)\n",
    "raw_human_DMS2= calculate_one_tailed_pvalues(raw_human_DMS1)\n",
    "raw_ecoli_ETC2= calculate_one_tailed_pvalues(raw_ecoli_ETC1)"
   ]
  },
  {
   "cell_type": "markdown",
   "id": "ff5a1982",
   "metadata": {},
   "source": [
    "# Extracting base pair information for different rRNAs of corresponding organisms"
   ]
  },
  {
   "cell_type": "code",
   "execution_count": 46,
   "id": "c0c2b570",
   "metadata": {},
   "outputs": [
    {
     "name": "stdout",
     "output_type": "stream",
     "text": [
      " ExecutiveLoad-Detail: Detected mmCIF\n",
      " ExecutiveLoad-Detail: Detected mmCIF\n",
      " ExecutiveLoad-Detail: Detected mmCIF\n"
     ]
    }
   ],
   "source": [
    "#ectracting base pair information for ecoli rRNAs (5S, 16S, and 23S)\n",
    "#ecoli_5S\n",
    "#df= ecoli_bp\n",
    "#p= '4YBB'\n",
    "#c= 'CB'\n",
    "#R= '5S'\n",
    "#b= 0\n",
    "e5S= pair_df(ecoli_bp, '4YBB', 'CB', '5S', 0)\n",
    "\n",
    "#ecoli_16S\n",
    "#df= ecoli_bp\n",
    "#p= '4YBB'\n",
    "#c= 'AA'\n",
    "#R= '16S'\n",
    "#b= 0\n",
    "e16S= pair_df(ecoli_bp, '4YBB', 'AA', '16S', 0)\n",
    "\n",
    "#ecoli_23S\n",
    "#df= ecoli_bp\n",
    "#p= '4YBB'\n",
    "#c= 'CA'\n",
    "#R= '23S'\n",
    "#b= 0\n",
    "e23S= pair_df(ecoli_bp, '4YBB', 'CA', '23S', 0)"
   ]
  },
  {
   "cell_type": "code",
   "execution_count": 48,
   "id": "c0c41670",
   "metadata": {},
   "outputs": [
    {
     "name": "stdout",
     "output_type": "stream",
     "text": [
      " ExecutiveLoad-Detail: Detected mmCIF\n",
      " ExecutiveLoad-Detail: Detected mmCIF\n",
      " ExecutiveLoad-Detail: Detected mmCIF\n",
      " ExecutiveLoad-Detail: Detected mmCIF\n"
     ]
    }
   ],
   "source": [
    "#extracting base pair information for yeast rRNAs (5S, 5.8S, 18S, 25S)\n",
    "#yeast_5S\n",
    "#df= yeast_bp\n",
    "#p= '4V88'\n",
    "#c= 'A3'\n",
    "#R= '5S'\n",
    "#b= 0\n",
    "y5S= pair_df(yeast_bp, '4V88', 'A3', '5S', 0)\n",
    "\n",
    "#yeast_5.8S\n",
    "#df= yeast_bp\n",
    "#p= '4V88'\n",
    "#c= 'A4'\n",
    "#R= '5.8S'\n",
    "#b= 0\n",
    "y58S= pair_df(yeast_bp, '4V88', 'A4', '5.8S', 0)\n",
    "\n",
    "#yeast_18S\n",
    "#df= yeast_bp\n",
    "#p= '4V88'\n",
    "#c= 'A2'\n",
    "#R= '18S'\n",
    "#b= 0\n",
    "y18S= pair_df(yeast_bp, '4V88', 'A2', '18S', 0)\n",
    "\n",
    "#yeast_25S\n",
    "#df= yeast_bp\n",
    "#p= '4V88'\n",
    "#c= 'A1'\n",
    "#R= '25S'\n",
    "#b= 0\n",
    "y25S= pair_df(yeast_bp, '4V88', 'A1', '25S', 0)"
   ]
  },
  {
   "cell_type": "code",
   "execution_count": 49,
   "id": "95268f82",
   "metadata": {},
   "outputs": [
    {
     "name": "stdout",
     "output_type": "stream",
     "text": [
      " ExecutiveLoad-Detail: Detected mmCIF\n",
      " ExecutiveLoad-Detail: Detected mmCIF\n",
      " ExecutiveLoad-Detail: Detected mmCIF\n"
     ]
    }
   ],
   "source": [
    "#extracting base pair information for human rRNAs (5S, 18S, 28S)\n",
    "#human_5S\n",
    "#df= human_bp\n",
    "#p= '8QOI'\n",
    "#c= 'L7'\n",
    "#R= '5S'\n",
    "#b= 0\n",
    "h5S= pair_df(human_bp, '8QOI', 'L7', '5S', 0)\n",
    "\n",
    "#human_18S\n",
    "#df= human_bp\n",
    "#p= '8QOI'\n",
    "#c= 'S2'\n",
    "#R= '18S'\n",
    "#b= 0\n",
    "h18S= pair_df(human_bp, '8QOI', 'S2', '18S', 0)\n",
    "\n",
    "#human_28S\n",
    "#df= human_bp\n",
    "#p= '8QOI'\n",
    "#c= 'L5'\n",
    "#R= '28S'\n",
    "#b= 0\n",
    "h28S= pair_df(human_bp, '8QOI', 'L5', '28S', 0)"
   ]
  },
  {
   "cell_type": "code",
   "execution_count": 51,
   "id": "b958d157",
   "metadata": {},
   "outputs": [],
   "source": [
    "#remove the structure files (in .cif format) generated in the steps above\n",
    "# List all .cif files in the current directory\n",
    "cif_files = glob.glob(\"*.cif\")\n",
    "\n",
    "# Remove each file\n",
    "for file in cif_files:\n",
    "    try:\n",
    "        os.remove(file)\n",
    "        print(f\"Removed: {file}\")\n",
    "    except Exception as e:\n",
    "        print(f\"Error removing {file}: {e}\")"
   ]
  },
  {
   "cell_type": "code",
   "execution_count": null,
   "id": "1cbdbacf",
   "metadata": {},
   "outputs": [],
   "source": []
  },
  {
   "cell_type": "markdown",
   "id": "63000e04",
   "metadata": {},
   "source": [
    "# Splitting reactivities by rRNA types to compare with the base pair information"
   ]
  },
  {
   "cell_type": "code",
   "execution_count": 56,
   "id": "6cce6750",
   "metadata": {},
   "outputs": [
    {
     "name": "stdout",
     "output_type": "stream",
     "text": [
      "-------------------------------------------ecoli---->5S\n",
      "(118, 4)\n",
      "(120, 29)\n",
      "-------------------------------------------ecoli---->16S\n",
      "(1534, 4)\n",
      "(1542, 29)\n",
      "-------------------------------------------ecoli---->23S\n",
      "(2898, 4)\n",
      "(2904, 29)\n"
     ]
    }
   ],
   "source": [
    "#spliting by RNA type for E. coli (for DMS reactivities)\n",
    "\n",
    "raw_ecoli_DMS2_5S= raw_ecoli_DMS2[raw_ecoli_DMS2['RNA']=='5S']\n",
    "raw_ecoli_DMS2_5S.index= np.arange(0, len(raw_ecoli_DMS2_5S))\n",
    "print ('-------------------------------------------ecoli---->5S')\n",
    "print (e5S.shape)\n",
    "print (raw_ecoli_DMS2_5S.shape)\n",
    "\n",
    "\n",
    "raw_ecoli_DMS2_16S= raw_ecoli_DMS2[raw_ecoli_DMS2['RNA']=='16S']\n",
    "raw_ecoli_DMS2_16S.index= np.arange(0, len(raw_ecoli_DMS2_16S))\n",
    "print ('-------------------------------------------ecoli---->16S')\n",
    "print (e16S.shape)\n",
    "print (raw_ecoli_DMS2_16S.shape)\n",
    "\n",
    "raw_ecoli_DMS2_23S= raw_ecoli_DMS2[raw_ecoli_DMS2['RNA']=='23S']\n",
    "raw_ecoli_DMS2_23S.index= np.arange(0, len(raw_ecoli_DMS2_23S))\n",
    "print ('-------------------------------------------ecoli---->23S')\n",
    "print (e23S.shape)\n",
    "print (raw_ecoli_DMS2_23S.shape)"
   ]
  },
  {
   "cell_type": "code",
   "execution_count": null,
   "id": "8a581e2b",
   "metadata": {},
   "outputs": [],
   "source": []
  },
  {
   "cell_type": "code",
   "execution_count": 65,
   "id": "2df42ffb",
   "metadata": {},
   "outputs": [
    {
     "name": "stdout",
     "output_type": "stream",
     "text": [
      "-------------------------------------------ecoli---->5S\n",
      "(118, 4)\n",
      "(0, 29)\n",
      "-------------------------------------------ecoli---->16S\n",
      "(1534, 4)\n",
      "(0, 29)\n",
      "-------------------------------------------ecoli---->23S\n",
      "(2898, 4)\n",
      "(0, 29)\n"
     ]
    }
   ],
   "source": [
    "#spliting by RNA type for E. coli (for ETC reactivities)\n",
    "\n",
    "raw_ecoli_ETC2_5S= raw_ecoli_ETC2[raw_ecoli_ETC2['RNA']=='5S']\n",
    "raw_ecoli_ETC2_5S.index= np.arange(0, len(raw_ecoli_ETC2_5S))\n",
    "print ('-------------------------------------------ecoli---->5S')\n",
    "print (e5S.shape)\n",
    "print (raw_ecoli_ETC2_5S.shape)\n",
    "\n",
    "raw_ecoli_ETC2_16S= raw_ecoli_ETC2[raw_ecoli_ETC2['RNA']=='16S']\n",
    "raw_ecoli_ETC2_16S.index= np.arange(0, len(raw_ecoli_ETC2_16S))\n",
    "print ('-------------------------------------------ecoli---->16S')\n",
    "print (e16S.shape)\n",
    "print (raw_ecoli_ETC2_16S.shape)\n",
    "\n",
    "raw_ecoli_ETC2_23S= raw_ecoli_ETC2[raw_ecoli_ETC2['RNA']=='23S']\n",
    "raw_ecoli_ETC2_23S.index= np.arange(0, len(raw_ecoli_ETC2_23S))\n",
    "print ('-------------------------------------------ecoli---->23S')\n",
    "print (e23S.shape)\n",
    "print (raw_ecoli_ETC2_23S.shape)"
   ]
  },
  {
   "cell_type": "code",
   "execution_count": null,
   "id": "3b061f56",
   "metadata": {},
   "outputs": [],
   "source": []
  },
  {
   "cell_type": "code",
   "execution_count": 58,
   "id": "6de1e5bd",
   "metadata": {},
   "outputs": [
    {
     "name": "stdout",
     "output_type": "stream",
     "text": [
      "-------------------------------------------yeast---->5S\n",
      "(121, 4)\n",
      "(0, 29)\n",
      "-------------------------------------------yeast---->5.8S\n",
      "(158, 4)\n",
      "(0, 29)\n",
      "-------------------------------------------yeast---->18S\n",
      "(1781, 4)\n",
      "(0, 29)\n",
      "-------------------------------------------yeast---->25S\n",
      "(3149, 4)\n",
      "(0, 29)\n"
     ]
    }
   ],
   "source": [
    "#spliting by RNA type for yeast\n",
    "\n",
    "raw_yeast_DMS2_5S= raw_yeast_DMS2[raw_yeast_DMS2['RNA']=='5S']\n",
    "raw_yeast_DMS2_5S.index= np.arange(0, len(raw_yeast_DMS2_5S))\n",
    "print ('-------------------------------------------yeast---->5S')\n",
    "print (y5S.shape)\n",
    "print (raw_yeast_DMS2_5S.shape)\n",
    "\n",
    "raw_yeast_DMS2_58S= raw_yeast_DMS2[raw_yeast_DMS2['RNA']=='5.8S']\n",
    "raw_yeast_DMS2_58S.index= np.arange(0, len(raw_yeast_DMS2_58S))\n",
    "print ('-------------------------------------------yeast---->5.8S')\n",
    "print (y58S.shape)\n",
    "print (raw_yeast_DMS2_58S.shape)\n",
    "\n",
    "raw_yeast_DMS2_18S= raw_yeast_DMS2[raw_yeast_DMS2['RNA']=='18S']\n",
    "raw_yeast_DMS2_18S.index= np.arange(0, len(raw_yeast_DMS2_18S))\n",
    "print ('-------------------------------------------yeast---->18S')\n",
    "print (y18S.shape)\n",
    "print (raw_yeast_DMS2_18S.shape)\n",
    "\n",
    "raw_yeast_DMS2_25S= raw_yeast_DMS2[raw_yeast_DMS2['RNA']=='25S']\n",
    "raw_yeast_DMS2_25S.index= np.arange(0, len(raw_yeast_DMS2_25S))\n",
    "print ('-------------------------------------------yeast---->25S')\n",
    "print (y25S.shape)\n",
    "print (raw_yeast_DMS2_25S.shape)"
   ]
  },
  {
   "cell_type": "code",
   "execution_count": null,
   "id": "cd17dfb9",
   "metadata": {},
   "outputs": [],
   "source": []
  },
  {
   "cell_type": "code",
   "execution_count": 61,
   "id": "6ce27329",
   "metadata": {},
   "outputs": [
    {
     "name": "stdout",
     "output_type": "stream",
     "text": [
      "-------------------------------------------human---->5S\n",
      "(120, 4)\n",
      "(0, 29)\n",
      "-------------------------------------------human---->18S\n",
      "(1740, 4)\n",
      "(0, 29)\n",
      "-------------------------------------------human---->28S\n",
      "(3773, 4)\n",
      "(0, 29)\n"
     ]
    }
   ],
   "source": [
    "#spliting by RNA type for human\n",
    "\n",
    "raw_human_DMS2_5S= raw_human_DMS2[raw_human_DMS2['RNA']=='5S']\n",
    "raw_human_DMS2_5S.index= np.arange(0, len(raw_human_DMS2_5S))\n",
    "print ('-------------------------------------------human---->5S')\n",
    "print (h5S.shape)\n",
    "print (raw_human_DMS2_5S.shape)\n",
    "\n",
    "raw_human_DMS2_18S= raw_human_DMS2[raw_human_DMS2['RNA']=='18S']\n",
    "raw_human_DMS2_18S.index= np.arange(0, len(raw_human_DMS2_18S))\n",
    "print ('-------------------------------------------human---->18S')\n",
    "print (h18S.shape)\n",
    "print (raw_human_DMS2_18S.shape)\n",
    "\n",
    "raw_human_DMS2_28S= raw_human_DMS2[raw_human_DMS2['RNA']=='28S']\n",
    "raw_human_DMS2_28S.index= np.arange(0, len(raw_human_DMS2_28S))\n",
    "print ('-------------------------------------------human---->28S')\n",
    "print (h28S.shape)\n",
    "print (raw_human_DMS2_28S.shape)"
   ]
  },
  {
   "cell_type": "code",
   "execution_count": null,
   "id": "61ca6545",
   "metadata": {},
   "outputs": [],
   "source": []
  },
  {
   "cell_type": "code",
   "execution_count": 66,
   "id": "9dab90b4",
   "metadata": {},
   "outputs": [],
   "source": [
    "def fill_missing_res_index(df, column_name):\n",
    "    \"\"\"\n",
    "    Adds missing integers in a specified column and inserts new rows in a DataFrame.\n",
    "    \n",
    "    Parameters:\n",
    "    df (pd.DataFrame): The input DataFrame.\n",
    "    column_name (str): The column containing integer values.\n",
    "    \n",
    "    Returns:\n",
    "    pd.DataFrame: A new DataFrame with missing integers filled.\n",
    "    \"\"\"\n",
    "    # Find the full range of numbers\n",
    "    full_range = set(range(1, df[column_name].max() + 1))\n",
    "    existing_values = set(df[column_name])\n",
    "    missing_values = sorted(full_range - existing_values)\n",
    "    \n",
    "    # Create new DataFrame for missing values\n",
    "    missing_df = pd.DataFrame({column_name: missing_values})\n",
    "\n",
    "    # Append missing values and sort\n",
    "    df_filled = pd.concat([df, missing_df], ignore_index=True).sort_values(by=column_name)\n",
    "\n",
    "    return df_filled.reset_index(drop=True)"
   ]
  },
  {
   "cell_type": "code",
   "execution_count": 67,
   "id": "0d2fde1a",
   "metadata": {},
   "outputs": [],
   "source": [
    "def subtract_after_value(df, column_name, threshold_value):\n",
    "    \"\"\"\n",
    "    Subtracts 1 from all items in a specified column after a given threshold value.\n",
    "\n",
    "    Parameters:\n",
    "    df (pd.DataFrame): The input DataFrame.\n",
    "    column_name (str): The column containing integer values.\n",
    "    threshold_value (int): The value after which subtraction should occur.\n",
    "\n",
    "    Returns:\n",
    "    pd.DataFrame: The modified DataFrame with adjusted values.\n",
    "    \"\"\"\n",
    "    df = df.copy()  # To avoid modifying the original DataFrame\n",
    "    mask = df[column_name] > threshold_value  # Select rows where value is greater than threshold\n",
    "    df.loc[mask, column_name] -= 1  # Subtract 1 from those values\n",
    "    return df"
   ]
  },
  {
   "cell_type": "code",
   "execution_count": 68,
   "id": "9d2bc85a",
   "metadata": {},
   "outputs": [],
   "source": [
    "e5S= fill_missing_res_index(e5S, 'residue_index')\n",
    "e16S= fill_missing_res_index(e16S, 'residue_index')\n",
    "e23S= fill_missing_res_index(e23S, 'residue_index')"
   ]
  },
  {
   "cell_type": "code",
   "execution_count": 69,
   "id": "c5911e7e",
   "metadata": {},
   "outputs": [],
   "source": [
    "y18S= fill_missing_res_index(y18S, 'residue_index')\n",
    "y25S= fill_missing_res_index(y25S, 'residue_index')"
   ]
  },
  {
   "cell_type": "code",
   "execution_count": 70,
   "id": "e448b43b",
   "metadata": {},
   "outputs": [],
   "source": [
    "h28S= subtract_after_value(h28S, 'residue_index', 880)"
   ]
  },
  {
   "cell_type": "code",
   "execution_count": 71,
   "id": "da922985",
   "metadata": {},
   "outputs": [],
   "source": [
    "h18S= fill_missing_res_index(h18S, 'residue_index')\n",
    "h28S= fill_missing_res_index(h28S, 'residue_index')"
   ]
  },
  {
   "cell_type": "code",
   "execution_count": null,
   "id": "84311246",
   "metadata": {},
   "outputs": [],
   "source": []
  },
  {
   "cell_type": "code",
   "execution_count": 73,
   "id": "b4e47a6e",
   "metadata": {},
   "outputs": [],
   "source": [
    "with pd.ExcelWriter('../../results/reactivities_and_base_pairs.xlsx', engine='xlsxwriter') as writer:\n",
    "    raw_ecoli_DMS2_5S.to_excel(writer, sheet_name= 'ecoli_5S_DMS', index=False)\n",
    "    raw_ecoli_DMS2_16S.to_excel(writer, sheet_name= 'ecoli_16S_DMS', index=False)\n",
    "    raw_ecoli_DMS2_23S.to_excel(writer, sheet_name= 'ecoli_23S_DMS', index=False)\n",
    "    \n",
    "    raw_ecoli_ETC2_5S.to_excel(writer, sheet_name= 'ecoli_5S_ETC', index=False)\n",
    "    raw_ecoli_ETC2_16S.to_excel(writer, sheet_name= 'ecoli_16S_ETC', index=False)\n",
    "    raw_ecoli_ETC2_23S.to_excel(writer, sheet_name= 'ecoli_23S_ETC', index=False)\n",
    "    \n",
    "    raw_yeast_DMS2_5S.to_excel(writer, sheet_name= 'yeast_5S_DMS', index=False)\n",
    "    raw_yeast_DMS2_58S.to_excel(writer, sheet_name= 'yeast_58S_DMS', index=False)\n",
    "    raw_yeast_DMS2_18S.to_excel(writer, sheet_name= 'yeast_18S_DMS', index=False)\n",
    "    raw_yeast_DMS2_25S.to_excel(writer, sheet_name= 'yeast_25S_DMS', index=False)\n",
    "    \n",
    "    raw_human_DMS2_5S.to_excel(writer, sheet_name= 'human_5S_DMS', index=False)\n",
    "    raw_human_DMS2_18S.to_excel(writer, sheet_name= 'human_18S_DMS', index=False)\n",
    "    raw_human_DMS2_28S.to_excel(writer, sheet_name= 'human_28S_DMS', index=False)\n",
    "    \n",
    "    e5S.to_excel(writer, sheet_name= 'ecoli_5S_pairs', index=False)\n",
    "    e16S.to_excel(writer, sheet_name= 'ecoli_16S_pairs', index=False)\n",
    "    e23S.to_excel(writer, sheet_name= 'ecoli_23S_pairs', index=False)\n",
    "    \n",
    "    y5S.to_excel(writer, sheet_name= 'yeast_5S_pairs', index=False)\n",
    "    y58S.to_excel(writer, sheet_name= 'yeast_58S_pairs', index=False)\n",
    "    y18S.to_excel(writer, sheet_name= 'yeast_18S_pairs', index=False)\n",
    "    y25S.to_excel(writer, sheet_name= 'yeast_25S_pairs', index=False)\n",
    "    \n",
    "    h5S.to_excel(writer, sheet_name= 'human_5S_pairs', index=False)\n",
    "    h18S.to_excel(writer, sheet_name= 'human_18S_pairs', index=False)\n",
    "    h28S.to_excel(writer, sheet_name= 'human_28S_pairs', index=False)"
   ]
  },
  {
   "cell_type": "code",
   "execution_count": null,
   "id": "71c6ff54",
   "metadata": {},
   "outputs": [],
   "source": []
  }
 ],
 "metadata": {
  "kernelspec": {
   "display_name": "Python 3 (ipykernel)",
   "language": "python",
   "name": "python3"
  },
  "language_info": {
   "codemirror_mode": {
    "name": "ipython",
    "version": 3
   },
   "file_extension": ".py",
   "mimetype": "text/x-python",
   "name": "python",
   "nbconvert_exporter": "python",
   "pygments_lexer": "ipython3",
   "version": "3.11.0"
  }
 },
 "nbformat": 4,
 "nbformat_minor": 5
}
